{
 "cells": [
  {
   "cell_type": "markdown",
   "id": "decd43bf",
   "metadata": {},
   "source": [
    "# ProblemStatement:"
   ]
  },
  {
   "cell_type": "markdown",
   "id": "5d411115",
   "metadata": {},
   "source": [
    "#Perform the following operations using Python on the Air quality and Heart Diseases data sets"
   ]
  },
  {
   "cell_type": "markdown",
   "id": "7622f7f8",
   "metadata": {},
   "source": [
    "a. Data cleaning"
   ]
  },
  {
   "cell_type": "markdown",
   "id": "6579e199",
   "metadata": {},
   "source": [
    "b.Data Integration"
   ]
  },
  {
   "cell_type": "markdown",
   "id": "62b24dc1",
   "metadata": {},
   "source": [
    "c. Data transformation"
   ]
  },
  {
   "cell_type": "markdown",
   "id": "084ea605",
   "metadata": {},
   "source": [
    "d. Error correcting"
   ]
  },
  {
   "cell_type": "markdown",
   "id": "bce63225",
   "metadata": {},
   "source": [
    "e. Data model building"
   ]
  },
  {
   "cell_type": "code",
   "execution_count": 1,
   "id": "9f94e3b1",
   "metadata": {},
   "outputs": [],
   "source": [
    "import pandas as pd\n",
    "import numpy as np\n",
    "import matplotlib.pyplot as plt"
   ]
  },
  {
   "cell_type": "code",
   "execution_count": 2,
   "id": "60f2dc33",
   "metadata": {},
   "outputs": [],
   "source": [
    "A =pd.read_csv(r\"airquality.csv\")"
   ]
  },
  {
   "cell_type": "code",
   "execution_count": 3,
   "id": "2c436740",
   "metadata": {},
   "outputs": [
    {
     "data": {
      "text/html": [
       "<div>\n",
       "<style scoped>\n",
       "    .dataframe tbody tr th:only-of-type {\n",
       "        vertical-align: middle;\n",
       "    }\n",
       "\n",
       "    .dataframe tbody tr th {\n",
       "        vertical-align: top;\n",
       "    }\n",
       "\n",
       "    .dataframe thead th {\n",
       "        text-align: right;\n",
       "    }\n",
       "</style>\n",
       "<table border=\"1\" class=\"dataframe\">\n",
       "  <thead>\n",
       "    <tr style=\"text-align: right;\">\n",
       "      <th></th>\n",
       "      <th>Unnamed: 0</th>\n",
       "      <th>Ozone</th>\n",
       "      <th>Solar.R</th>\n",
       "      <th>Wind</th>\n",
       "      <th>Temp</th>\n",
       "      <th>Month</th>\n",
       "      <th>Day</th>\n",
       "      <th>Humidity</th>\n",
       "    </tr>\n",
       "  </thead>\n",
       "  <tbody>\n",
       "    <tr>\n",
       "      <th>0</th>\n",
       "      <td>1</td>\n",
       "      <td>41.0</td>\n",
       "      <td>190.0</td>\n",
       "      <td>7.4</td>\n",
       "      <td>67</td>\n",
       "      <td>5</td>\n",
       "      <td>1</td>\n",
       "      <td>High</td>\n",
       "    </tr>\n",
       "    <tr>\n",
       "      <th>1</th>\n",
       "      <td>2</td>\n",
       "      <td>36.0</td>\n",
       "      <td>118.0</td>\n",
       "      <td>8.0</td>\n",
       "      <td>72</td>\n",
       "      <td>5</td>\n",
       "      <td>2</td>\n",
       "      <td>low</td>\n",
       "    </tr>\n",
       "    <tr>\n",
       "      <th>2</th>\n",
       "      <td>3</td>\n",
       "      <td>12.0</td>\n",
       "      <td>149.0</td>\n",
       "      <td>12.6</td>\n",
       "      <td>74</td>\n",
       "      <td>5</td>\n",
       "      <td>3</td>\n",
       "      <td>low</td>\n",
       "    </tr>\n",
       "    <tr>\n",
       "      <th>3</th>\n",
       "      <td>4</td>\n",
       "      <td>18.0</td>\n",
       "      <td>313.0</td>\n",
       "      <td>11.5</td>\n",
       "      <td>62</td>\n",
       "      <td>5</td>\n",
       "      <td>4</td>\n",
       "      <td>High</td>\n",
       "    </tr>\n",
       "    <tr>\n",
       "      <th>4</th>\n",
       "      <td>5</td>\n",
       "      <td>NaN</td>\n",
       "      <td>NaN</td>\n",
       "      <td>14.3</td>\n",
       "      <td>56</td>\n",
       "      <td>5</td>\n",
       "      <td>5</td>\n",
       "      <td>Medium</td>\n",
       "    </tr>\n",
       "    <tr>\n",
       "      <th>...</th>\n",
       "      <td>...</td>\n",
       "      <td>...</td>\n",
       "      <td>...</td>\n",
       "      <td>...</td>\n",
       "      <td>...</td>\n",
       "      <td>...</td>\n",
       "      <td>...</td>\n",
       "      <td>...</td>\n",
       "    </tr>\n",
       "    <tr>\n",
       "      <th>148</th>\n",
       "      <td>149</td>\n",
       "      <td>30.0</td>\n",
       "      <td>193.0</td>\n",
       "      <td>6.9</td>\n",
       "      <td>70</td>\n",
       "      <td>9</td>\n",
       "      <td>26</td>\n",
       "      <td>low</td>\n",
       "    </tr>\n",
       "    <tr>\n",
       "      <th>149</th>\n",
       "      <td>150</td>\n",
       "      <td>NaN</td>\n",
       "      <td>145.0</td>\n",
       "      <td>13.2</td>\n",
       "      <td>77</td>\n",
       "      <td>9</td>\n",
       "      <td>27</td>\n",
       "      <td>High</td>\n",
       "    </tr>\n",
       "    <tr>\n",
       "      <th>150</th>\n",
       "      <td>151</td>\n",
       "      <td>14.0</td>\n",
       "      <td>191.0</td>\n",
       "      <td>14.3</td>\n",
       "      <td>75</td>\n",
       "      <td>9</td>\n",
       "      <td>28</td>\n",
       "      <td>High</td>\n",
       "    </tr>\n",
       "    <tr>\n",
       "      <th>151</th>\n",
       "      <td>152</td>\n",
       "      <td>18.0</td>\n",
       "      <td>131.0</td>\n",
       "      <td>8.0</td>\n",
       "      <td>76</td>\n",
       "      <td>9</td>\n",
       "      <td>29</td>\n",
       "      <td>low</td>\n",
       "    </tr>\n",
       "    <tr>\n",
       "      <th>152</th>\n",
       "      <td>153</td>\n",
       "      <td>20.0</td>\n",
       "      <td>223.0</td>\n",
       "      <td>11.5</td>\n",
       "      <td>68</td>\n",
       "      <td>9</td>\n",
       "      <td>30</td>\n",
       "      <td>low</td>\n",
       "    </tr>\n",
       "  </tbody>\n",
       "</table>\n",
       "<p>153 rows × 8 columns</p>\n",
       "</div>"
      ],
      "text/plain": [
       "     Unnamed: 0  Ozone  Solar.R  Wind  Temp  Month  Day Humidity\n",
       "0             1   41.0    190.0   7.4    67      5    1     High\n",
       "1             2   36.0    118.0   8.0    72      5    2      low\n",
       "2             3   12.0    149.0  12.6    74      5    3      low\n",
       "3             4   18.0    313.0  11.5    62      5    4     High\n",
       "4             5    NaN      NaN  14.3    56      5    5   Medium\n",
       "..          ...    ...      ...   ...   ...    ...  ...      ...\n",
       "148         149   30.0    193.0   6.9    70      9   26      low\n",
       "149         150    NaN    145.0  13.2    77      9   27     High\n",
       "150         151   14.0    191.0  14.3    75      9   28     High\n",
       "151         152   18.0    131.0   8.0    76      9   29      low\n",
       "152         153   20.0    223.0  11.5    68      9   30      low\n",
       "\n",
       "[153 rows x 8 columns]"
      ]
     },
     "execution_count": 3,
     "metadata": {},
     "output_type": "execute_result"
    }
   ],
   "source": [
    "A"
   ]
  },
  {
   "cell_type": "markdown",
   "id": "4c866fa5",
   "metadata": {},
   "source": [
    "#  Data cleaning"
   ]
  },
  {
   "cell_type": "code",
   "execution_count": 4,
   "id": "2717d4e4",
   "metadata": {},
   "outputs": [
    {
     "data": {
      "text/plain": [
       "Unnamed: 0     0\n",
       "Ozone         37\n",
       "Solar.R        7\n",
       "Wind           0\n",
       "Temp           0\n",
       "Month          0\n",
       "Day            0\n",
       "Humidity       6\n",
       "dtype: int64"
      ]
     },
     "execution_count": 4,
     "metadata": {},
     "output_type": "execute_result"
    }
   ],
   "source": [
    "A.isnull().sum()"
   ]
  },
  {
   "cell_type": "code",
   "execution_count": 5,
   "id": "c12cc0af",
   "metadata": {},
   "outputs": [],
   "source": [
    "A.drop('Unnamed: 0',axis=1,inplace=True)"
   ]
  },
  {
   "cell_type": "code",
   "execution_count": 6,
   "id": "5e8c6ada",
   "metadata": {},
   "outputs": [
    {
     "data": {
      "text/html": [
       "<div>\n",
       "<style scoped>\n",
       "    .dataframe tbody tr th:only-of-type {\n",
       "        vertical-align: middle;\n",
       "    }\n",
       "\n",
       "    .dataframe tbody tr th {\n",
       "        vertical-align: top;\n",
       "    }\n",
       "\n",
       "    .dataframe thead th {\n",
       "        text-align: right;\n",
       "    }\n",
       "</style>\n",
       "<table border=\"1\" class=\"dataframe\">\n",
       "  <thead>\n",
       "    <tr style=\"text-align: right;\">\n",
       "      <th></th>\n",
       "      <th>Ozone</th>\n",
       "      <th>Solar.R</th>\n",
       "      <th>Wind</th>\n",
       "      <th>Temp</th>\n",
       "      <th>Month</th>\n",
       "      <th>Day</th>\n",
       "      <th>Humidity</th>\n",
       "    </tr>\n",
       "  </thead>\n",
       "  <tbody>\n",
       "    <tr>\n",
       "      <th>0</th>\n",
       "      <td>41.0</td>\n",
       "      <td>190.0</td>\n",
       "      <td>7.4</td>\n",
       "      <td>67</td>\n",
       "      <td>5</td>\n",
       "      <td>1</td>\n",
       "      <td>High</td>\n",
       "    </tr>\n",
       "    <tr>\n",
       "      <th>1</th>\n",
       "      <td>36.0</td>\n",
       "      <td>118.0</td>\n",
       "      <td>8.0</td>\n",
       "      <td>72</td>\n",
       "      <td>5</td>\n",
       "      <td>2</td>\n",
       "      <td>low</td>\n",
       "    </tr>\n",
       "    <tr>\n",
       "      <th>2</th>\n",
       "      <td>12.0</td>\n",
       "      <td>149.0</td>\n",
       "      <td>12.6</td>\n",
       "      <td>74</td>\n",
       "      <td>5</td>\n",
       "      <td>3</td>\n",
       "      <td>low</td>\n",
       "    </tr>\n",
       "    <tr>\n",
       "      <th>3</th>\n",
       "      <td>18.0</td>\n",
       "      <td>313.0</td>\n",
       "      <td>11.5</td>\n",
       "      <td>62</td>\n",
       "      <td>5</td>\n",
       "      <td>4</td>\n",
       "      <td>High</td>\n",
       "    </tr>\n",
       "    <tr>\n",
       "      <th>4</th>\n",
       "      <td>NaN</td>\n",
       "      <td>NaN</td>\n",
       "      <td>14.3</td>\n",
       "      <td>56</td>\n",
       "      <td>5</td>\n",
       "      <td>5</td>\n",
       "      <td>Medium</td>\n",
       "    </tr>\n",
       "    <tr>\n",
       "      <th>...</th>\n",
       "      <td>...</td>\n",
       "      <td>...</td>\n",
       "      <td>...</td>\n",
       "      <td>...</td>\n",
       "      <td>...</td>\n",
       "      <td>...</td>\n",
       "      <td>...</td>\n",
       "    </tr>\n",
       "    <tr>\n",
       "      <th>148</th>\n",
       "      <td>30.0</td>\n",
       "      <td>193.0</td>\n",
       "      <td>6.9</td>\n",
       "      <td>70</td>\n",
       "      <td>9</td>\n",
       "      <td>26</td>\n",
       "      <td>low</td>\n",
       "    </tr>\n",
       "    <tr>\n",
       "      <th>149</th>\n",
       "      <td>NaN</td>\n",
       "      <td>145.0</td>\n",
       "      <td>13.2</td>\n",
       "      <td>77</td>\n",
       "      <td>9</td>\n",
       "      <td>27</td>\n",
       "      <td>High</td>\n",
       "    </tr>\n",
       "    <tr>\n",
       "      <th>150</th>\n",
       "      <td>14.0</td>\n",
       "      <td>191.0</td>\n",
       "      <td>14.3</td>\n",
       "      <td>75</td>\n",
       "      <td>9</td>\n",
       "      <td>28</td>\n",
       "      <td>High</td>\n",
       "    </tr>\n",
       "    <tr>\n",
       "      <th>151</th>\n",
       "      <td>18.0</td>\n",
       "      <td>131.0</td>\n",
       "      <td>8.0</td>\n",
       "      <td>76</td>\n",
       "      <td>9</td>\n",
       "      <td>29</td>\n",
       "      <td>low</td>\n",
       "    </tr>\n",
       "    <tr>\n",
       "      <th>152</th>\n",
       "      <td>20.0</td>\n",
       "      <td>223.0</td>\n",
       "      <td>11.5</td>\n",
       "      <td>68</td>\n",
       "      <td>9</td>\n",
       "      <td>30</td>\n",
       "      <td>low</td>\n",
       "    </tr>\n",
       "  </tbody>\n",
       "</table>\n",
       "<p>153 rows × 7 columns</p>\n",
       "</div>"
      ],
      "text/plain": [
       "     Ozone  Solar.R  Wind  Temp  Month  Day Humidity\n",
       "0     41.0    190.0   7.4    67      5    1     High\n",
       "1     36.0    118.0   8.0    72      5    2      low\n",
       "2     12.0    149.0  12.6    74      5    3      low\n",
       "3     18.0    313.0  11.5    62      5    4     High\n",
       "4      NaN      NaN  14.3    56      5    5   Medium\n",
       "..     ...      ...   ...   ...    ...  ...      ...\n",
       "148   30.0    193.0   6.9    70      9   26      low\n",
       "149    NaN    145.0  13.2    77      9   27     High\n",
       "150   14.0    191.0  14.3    75      9   28     High\n",
       "151   18.0    131.0   8.0    76      9   29      low\n",
       "152   20.0    223.0  11.5    68      9   30      low\n",
       "\n",
       "[153 rows x 7 columns]"
      ]
     },
     "execution_count": 6,
     "metadata": {},
     "output_type": "execute_result"
    }
   ],
   "source": [
    "A"
   ]
  },
  {
   "cell_type": "code",
   "execution_count": 7,
   "id": "20a37b5f",
   "metadata": {},
   "outputs": [
    {
     "data": {
      "text/plain": [
       "(153, 7)"
      ]
     },
     "execution_count": 7,
     "metadata": {},
     "output_type": "execute_result"
    }
   ],
   "source": [
    "A.shape"
   ]
  },
  {
   "cell_type": "code",
   "execution_count": 8,
   "id": "81e8b4ca",
   "metadata": {},
   "outputs": [],
   "source": [
    "A[\"Ozone\"].fillna(A[\"Ozone\"].mean(),inplace=True)"
   ]
  },
  {
   "cell_type": "code",
   "execution_count": 9,
   "id": "333555b1",
   "metadata": {},
   "outputs": [],
   "source": [
    "A[\"Solar.R\"].fillna(A[\"Solar.R\"].mean(),inplace=True)"
   ]
  },
  {
   "cell_type": "code",
   "execution_count": 10,
   "id": "e491dd0e",
   "metadata": {},
   "outputs": [
    {
     "data": {
      "text/html": [
       "<div>\n",
       "<style scoped>\n",
       "    .dataframe tbody tr th:only-of-type {\n",
       "        vertical-align: middle;\n",
       "    }\n",
       "\n",
       "    .dataframe tbody tr th {\n",
       "        vertical-align: top;\n",
       "    }\n",
       "\n",
       "    .dataframe thead th {\n",
       "        text-align: right;\n",
       "    }\n",
       "</style>\n",
       "<table border=\"1\" class=\"dataframe\">\n",
       "  <thead>\n",
       "    <tr style=\"text-align: right;\">\n",
       "      <th></th>\n",
       "      <th>Ozone</th>\n",
       "      <th>Solar.R</th>\n",
       "      <th>Wind</th>\n",
       "      <th>Temp</th>\n",
       "      <th>Month</th>\n",
       "      <th>Day</th>\n",
       "      <th>Humidity</th>\n",
       "    </tr>\n",
       "  </thead>\n",
       "  <tbody>\n",
       "    <tr>\n",
       "      <th>0</th>\n",
       "      <td>41.00000</td>\n",
       "      <td>190.000000</td>\n",
       "      <td>7.4</td>\n",
       "      <td>67</td>\n",
       "      <td>5</td>\n",
       "      <td>1</td>\n",
       "      <td>High</td>\n",
       "    </tr>\n",
       "    <tr>\n",
       "      <th>1</th>\n",
       "      <td>36.00000</td>\n",
       "      <td>118.000000</td>\n",
       "      <td>8.0</td>\n",
       "      <td>72</td>\n",
       "      <td>5</td>\n",
       "      <td>2</td>\n",
       "      <td>low</td>\n",
       "    </tr>\n",
       "    <tr>\n",
       "      <th>2</th>\n",
       "      <td>12.00000</td>\n",
       "      <td>149.000000</td>\n",
       "      <td>12.6</td>\n",
       "      <td>74</td>\n",
       "      <td>5</td>\n",
       "      <td>3</td>\n",
       "      <td>low</td>\n",
       "    </tr>\n",
       "    <tr>\n",
       "      <th>3</th>\n",
       "      <td>18.00000</td>\n",
       "      <td>313.000000</td>\n",
       "      <td>11.5</td>\n",
       "      <td>62</td>\n",
       "      <td>5</td>\n",
       "      <td>4</td>\n",
       "      <td>High</td>\n",
       "    </tr>\n",
       "    <tr>\n",
       "      <th>4</th>\n",
       "      <td>42.12931</td>\n",
       "      <td>185.931507</td>\n",
       "      <td>14.3</td>\n",
       "      <td>56</td>\n",
       "      <td>5</td>\n",
       "      <td>5</td>\n",
       "      <td>Medium</td>\n",
       "    </tr>\n",
       "    <tr>\n",
       "      <th>...</th>\n",
       "      <td>...</td>\n",
       "      <td>...</td>\n",
       "      <td>...</td>\n",
       "      <td>...</td>\n",
       "      <td>...</td>\n",
       "      <td>...</td>\n",
       "      <td>...</td>\n",
       "    </tr>\n",
       "    <tr>\n",
       "      <th>148</th>\n",
       "      <td>30.00000</td>\n",
       "      <td>193.000000</td>\n",
       "      <td>6.9</td>\n",
       "      <td>70</td>\n",
       "      <td>9</td>\n",
       "      <td>26</td>\n",
       "      <td>low</td>\n",
       "    </tr>\n",
       "    <tr>\n",
       "      <th>149</th>\n",
       "      <td>42.12931</td>\n",
       "      <td>145.000000</td>\n",
       "      <td>13.2</td>\n",
       "      <td>77</td>\n",
       "      <td>9</td>\n",
       "      <td>27</td>\n",
       "      <td>High</td>\n",
       "    </tr>\n",
       "    <tr>\n",
       "      <th>150</th>\n",
       "      <td>14.00000</td>\n",
       "      <td>191.000000</td>\n",
       "      <td>14.3</td>\n",
       "      <td>75</td>\n",
       "      <td>9</td>\n",
       "      <td>28</td>\n",
       "      <td>High</td>\n",
       "    </tr>\n",
       "    <tr>\n",
       "      <th>151</th>\n",
       "      <td>18.00000</td>\n",
       "      <td>131.000000</td>\n",
       "      <td>8.0</td>\n",
       "      <td>76</td>\n",
       "      <td>9</td>\n",
       "      <td>29</td>\n",
       "      <td>low</td>\n",
       "    </tr>\n",
       "    <tr>\n",
       "      <th>152</th>\n",
       "      <td>20.00000</td>\n",
       "      <td>223.000000</td>\n",
       "      <td>11.5</td>\n",
       "      <td>68</td>\n",
       "      <td>9</td>\n",
       "      <td>30</td>\n",
       "      <td>low</td>\n",
       "    </tr>\n",
       "  </tbody>\n",
       "</table>\n",
       "<p>153 rows × 7 columns</p>\n",
       "</div>"
      ],
      "text/plain": [
       "        Ozone     Solar.R  Wind  Temp  Month  Day Humidity\n",
       "0    41.00000  190.000000   7.4    67      5    1     High\n",
       "1    36.00000  118.000000   8.0    72      5    2      low\n",
       "2    12.00000  149.000000  12.6    74      5    3      low\n",
       "3    18.00000  313.000000  11.5    62      5    4     High\n",
       "4    42.12931  185.931507  14.3    56      5    5   Medium\n",
       "..        ...         ...   ...   ...    ...  ...      ...\n",
       "148  30.00000  193.000000   6.9    70      9   26      low\n",
       "149  42.12931  145.000000  13.2    77      9   27     High\n",
       "150  14.00000  191.000000  14.3    75      9   28     High\n",
       "151  18.00000  131.000000   8.0    76      9   29      low\n",
       "152  20.00000  223.000000  11.5    68      9   30      low\n",
       "\n",
       "[153 rows x 7 columns]"
      ]
     },
     "execution_count": 10,
     "metadata": {},
     "output_type": "execute_result"
    }
   ],
   "source": [
    "A"
   ]
  },
  {
   "cell_type": "code",
   "execution_count": 11,
   "id": "2193ef0c",
   "metadata": {},
   "outputs": [
    {
     "data": {
      "text/plain": [
       "0    High\n",
       "1     low\n",
       "dtype: object"
      ]
     },
     "execution_count": 11,
     "metadata": {},
     "output_type": "execute_result"
    }
   ],
   "source": [
    "A[\"Humidity\"].mode()"
   ]
  },
  {
   "cell_type": "code",
   "execution_count": 47,
   "id": "8a95ad1e",
   "metadata": {},
   "outputs": [],
   "source": [
    "A[\"Humidity\"]=A[\"Humidity\"].fillna('high')"
   ]
  },
  {
   "cell_type": "code",
   "execution_count": 48,
   "id": "ef8057ff",
   "metadata": {},
   "outputs": [
    {
     "data": {
      "text/html": [
       "<div>\n",
       "<style scoped>\n",
       "    .dataframe tbody tr th:only-of-type {\n",
       "        vertical-align: middle;\n",
       "    }\n",
       "\n",
       "    .dataframe tbody tr th {\n",
       "        vertical-align: top;\n",
       "    }\n",
       "\n",
       "    .dataframe thead th {\n",
       "        text-align: right;\n",
       "    }\n",
       "</style>\n",
       "<table border=\"1\" class=\"dataframe\">\n",
       "  <thead>\n",
       "    <tr style=\"text-align: right;\">\n",
       "      <th></th>\n",
       "      <th>Ozone</th>\n",
       "      <th>Solar.R</th>\n",
       "      <th>Wind</th>\n",
       "      <th>Temp</th>\n",
       "      <th>Month</th>\n",
       "      <th>Day</th>\n",
       "      <th>Humidity</th>\n",
       "    </tr>\n",
       "  </thead>\n",
       "  <tbody>\n",
       "    <tr>\n",
       "      <th>0</th>\n",
       "      <td>41.00000</td>\n",
       "      <td>190.000000</td>\n",
       "      <td>7.4</td>\n",
       "      <td>67</td>\n",
       "      <td>5</td>\n",
       "      <td>1</td>\n",
       "      <td>0</td>\n",
       "    </tr>\n",
       "    <tr>\n",
       "      <th>1</th>\n",
       "      <td>36.00000</td>\n",
       "      <td>118.000000</td>\n",
       "      <td>8.0</td>\n",
       "      <td>72</td>\n",
       "      <td>5</td>\n",
       "      <td>2</td>\n",
       "      <td>3</td>\n",
       "    </tr>\n",
       "    <tr>\n",
       "      <th>2</th>\n",
       "      <td>12.00000</td>\n",
       "      <td>149.000000</td>\n",
       "      <td>12.6</td>\n",
       "      <td>74</td>\n",
       "      <td>5</td>\n",
       "      <td>3</td>\n",
       "      <td>3</td>\n",
       "    </tr>\n",
       "    <tr>\n",
       "      <th>3</th>\n",
       "      <td>18.00000</td>\n",
       "      <td>313.000000</td>\n",
       "      <td>11.5</td>\n",
       "      <td>62</td>\n",
       "      <td>5</td>\n",
       "      <td>4</td>\n",
       "      <td>0</td>\n",
       "    </tr>\n",
       "    <tr>\n",
       "      <th>4</th>\n",
       "      <td>42.12931</td>\n",
       "      <td>185.931507</td>\n",
       "      <td>14.3</td>\n",
       "      <td>56</td>\n",
       "      <td>5</td>\n",
       "      <td>5</td>\n",
       "      <td>1</td>\n",
       "    </tr>\n",
       "    <tr>\n",
       "      <th>...</th>\n",
       "      <td>...</td>\n",
       "      <td>...</td>\n",
       "      <td>...</td>\n",
       "      <td>...</td>\n",
       "      <td>...</td>\n",
       "      <td>...</td>\n",
       "      <td>...</td>\n",
       "    </tr>\n",
       "    <tr>\n",
       "      <th>148</th>\n",
       "      <td>30.00000</td>\n",
       "      <td>193.000000</td>\n",
       "      <td>6.9</td>\n",
       "      <td>70</td>\n",
       "      <td>9</td>\n",
       "      <td>26</td>\n",
       "      <td>3</td>\n",
       "    </tr>\n",
       "    <tr>\n",
       "      <th>149</th>\n",
       "      <td>42.12931</td>\n",
       "      <td>145.000000</td>\n",
       "      <td>13.2</td>\n",
       "      <td>77</td>\n",
       "      <td>9</td>\n",
       "      <td>27</td>\n",
       "      <td>0</td>\n",
       "    </tr>\n",
       "    <tr>\n",
       "      <th>150</th>\n",
       "      <td>14.00000</td>\n",
       "      <td>191.000000</td>\n",
       "      <td>14.3</td>\n",
       "      <td>75</td>\n",
       "      <td>9</td>\n",
       "      <td>28</td>\n",
       "      <td>0</td>\n",
       "    </tr>\n",
       "    <tr>\n",
       "      <th>151</th>\n",
       "      <td>18.00000</td>\n",
       "      <td>131.000000</td>\n",
       "      <td>8.0</td>\n",
       "      <td>76</td>\n",
       "      <td>9</td>\n",
       "      <td>29</td>\n",
       "      <td>3</td>\n",
       "    </tr>\n",
       "    <tr>\n",
       "      <th>152</th>\n",
       "      <td>20.00000</td>\n",
       "      <td>223.000000</td>\n",
       "      <td>11.5</td>\n",
       "      <td>68</td>\n",
       "      <td>9</td>\n",
       "      <td>30</td>\n",
       "      <td>3</td>\n",
       "    </tr>\n",
       "  </tbody>\n",
       "</table>\n",
       "<p>153 rows × 7 columns</p>\n",
       "</div>"
      ],
      "text/plain": [
       "        Ozone     Solar.R  Wind  Temp  Month  Day  Humidity\n",
       "0    41.00000  190.000000   7.4    67      5    1         0\n",
       "1    36.00000  118.000000   8.0    72      5    2         3\n",
       "2    12.00000  149.000000  12.6    74      5    3         3\n",
       "3    18.00000  313.000000  11.5    62      5    4         0\n",
       "4    42.12931  185.931507  14.3    56      5    5         1\n",
       "..        ...         ...   ...   ...    ...  ...       ...\n",
       "148  30.00000  193.000000   6.9    70      9   26         3\n",
       "149  42.12931  145.000000  13.2    77      9   27         0\n",
       "150  14.00000  191.000000  14.3    75      9   28         0\n",
       "151  18.00000  131.000000   8.0    76      9   29         3\n",
       "152  20.00000  223.000000  11.5    68      9   30         3\n",
       "\n",
       "[153 rows x 7 columns]"
      ]
     },
     "execution_count": 48,
     "metadata": {},
     "output_type": "execute_result"
    }
   ],
   "source": [
    "A"
   ]
  },
  {
   "cell_type": "code",
   "execution_count": 45,
   "id": "d8176180",
   "metadata": {},
   "outputs": [
    {
     "data": {
      "text/plain": [
       "Ozone       0\n",
       "Solar.R     0\n",
       "Wind        0\n",
       "Temp        0\n",
       "Month       0\n",
       "Day         0\n",
       "Humidity    0\n",
       "dtype: int64"
      ]
     },
     "execution_count": 45,
     "metadata": {},
     "output_type": "execute_result"
    }
   ],
   "source": [
    "A.isnull().sum()"
   ]
  },
  {
   "cell_type": "markdown",
   "id": "71d01e07",
   "metadata": {},
   "source": [
    "# B) Data Integration"
   ]
  },
  {
   "cell_type": "code",
   "execution_count": 15,
   "id": "e2b1fee8",
   "metadata": {},
   "outputs": [],
   "source": [
    "subset1=A[['Ozone','Solar.R','Wind','Temp']].loc[0:15]"
   ]
  },
  {
   "cell_type": "code",
   "execution_count": 16,
   "id": "40443a00",
   "metadata": {},
   "outputs": [
    {
     "data": {
      "text/html": [
       "<div>\n",
       "<style scoped>\n",
       "    .dataframe tbody tr th:only-of-type {\n",
       "        vertical-align: middle;\n",
       "    }\n",
       "\n",
       "    .dataframe tbody tr th {\n",
       "        vertical-align: top;\n",
       "    }\n",
       "\n",
       "    .dataframe thead th {\n",
       "        text-align: right;\n",
       "    }\n",
       "</style>\n",
       "<table border=\"1\" class=\"dataframe\">\n",
       "  <thead>\n",
       "    <tr style=\"text-align: right;\">\n",
       "      <th></th>\n",
       "      <th>Ozone</th>\n",
       "      <th>Solar.R</th>\n",
       "      <th>Wind</th>\n",
       "      <th>Temp</th>\n",
       "    </tr>\n",
       "  </thead>\n",
       "  <tbody>\n",
       "    <tr>\n",
       "      <th>0</th>\n",
       "      <td>41.00000</td>\n",
       "      <td>190.000000</td>\n",
       "      <td>7.4</td>\n",
       "      <td>67</td>\n",
       "    </tr>\n",
       "    <tr>\n",
       "      <th>1</th>\n",
       "      <td>36.00000</td>\n",
       "      <td>118.000000</td>\n",
       "      <td>8.0</td>\n",
       "      <td>72</td>\n",
       "    </tr>\n",
       "    <tr>\n",
       "      <th>2</th>\n",
       "      <td>12.00000</td>\n",
       "      <td>149.000000</td>\n",
       "      <td>12.6</td>\n",
       "      <td>74</td>\n",
       "    </tr>\n",
       "    <tr>\n",
       "      <th>3</th>\n",
       "      <td>18.00000</td>\n",
       "      <td>313.000000</td>\n",
       "      <td>11.5</td>\n",
       "      <td>62</td>\n",
       "    </tr>\n",
       "    <tr>\n",
       "      <th>4</th>\n",
       "      <td>42.12931</td>\n",
       "      <td>185.931507</td>\n",
       "      <td>14.3</td>\n",
       "      <td>56</td>\n",
       "    </tr>\n",
       "    <tr>\n",
       "      <th>5</th>\n",
       "      <td>28.00000</td>\n",
       "      <td>185.931507</td>\n",
       "      <td>14.9</td>\n",
       "      <td>66</td>\n",
       "    </tr>\n",
       "    <tr>\n",
       "      <th>6</th>\n",
       "      <td>23.00000</td>\n",
       "      <td>299.000000</td>\n",
       "      <td>8.6</td>\n",
       "      <td>65</td>\n",
       "    </tr>\n",
       "    <tr>\n",
       "      <th>7</th>\n",
       "      <td>19.00000</td>\n",
       "      <td>99.000000</td>\n",
       "      <td>13.8</td>\n",
       "      <td>59</td>\n",
       "    </tr>\n",
       "    <tr>\n",
       "      <th>8</th>\n",
       "      <td>8.00000</td>\n",
       "      <td>19.000000</td>\n",
       "      <td>20.1</td>\n",
       "      <td>61</td>\n",
       "    </tr>\n",
       "    <tr>\n",
       "      <th>9</th>\n",
       "      <td>42.12931</td>\n",
       "      <td>194.000000</td>\n",
       "      <td>8.6</td>\n",
       "      <td>69</td>\n",
       "    </tr>\n",
       "    <tr>\n",
       "      <th>10</th>\n",
       "      <td>7.00000</td>\n",
       "      <td>185.931507</td>\n",
       "      <td>6.9</td>\n",
       "      <td>74</td>\n",
       "    </tr>\n",
       "    <tr>\n",
       "      <th>11</th>\n",
       "      <td>16.00000</td>\n",
       "      <td>256.000000</td>\n",
       "      <td>9.7</td>\n",
       "      <td>69</td>\n",
       "    </tr>\n",
       "    <tr>\n",
       "      <th>12</th>\n",
       "      <td>11.00000</td>\n",
       "      <td>290.000000</td>\n",
       "      <td>9.2</td>\n",
       "      <td>66</td>\n",
       "    </tr>\n",
       "    <tr>\n",
       "      <th>13</th>\n",
       "      <td>14.00000</td>\n",
       "      <td>274.000000</td>\n",
       "      <td>10.9</td>\n",
       "      <td>68</td>\n",
       "    </tr>\n",
       "    <tr>\n",
       "      <th>14</th>\n",
       "      <td>18.00000</td>\n",
       "      <td>65.000000</td>\n",
       "      <td>13.2</td>\n",
       "      <td>58</td>\n",
       "    </tr>\n",
       "    <tr>\n",
       "      <th>15</th>\n",
       "      <td>14.00000</td>\n",
       "      <td>334.000000</td>\n",
       "      <td>11.5</td>\n",
       "      <td>64</td>\n",
       "    </tr>\n",
       "  </tbody>\n",
       "</table>\n",
       "</div>"
      ],
      "text/plain": [
       "       Ozone     Solar.R  Wind  Temp\n",
       "0   41.00000  190.000000   7.4    67\n",
       "1   36.00000  118.000000   8.0    72\n",
       "2   12.00000  149.000000  12.6    74\n",
       "3   18.00000  313.000000  11.5    62\n",
       "4   42.12931  185.931507  14.3    56\n",
       "5   28.00000  185.931507  14.9    66\n",
       "6   23.00000  299.000000   8.6    65\n",
       "7   19.00000   99.000000  13.8    59\n",
       "8    8.00000   19.000000  20.1    61\n",
       "9   42.12931  194.000000   8.6    69\n",
       "10   7.00000  185.931507   6.9    74\n",
       "11  16.00000  256.000000   9.7    69\n",
       "12  11.00000  290.000000   9.2    66\n",
       "13  14.00000  274.000000  10.9    68\n",
       "14  18.00000   65.000000  13.2    58\n",
       "15  14.00000  334.000000  11.5    64"
      ]
     },
     "execution_count": 16,
     "metadata": {},
     "output_type": "execute_result"
    }
   ],
   "source": [
    "subset1"
   ]
  },
  {
   "cell_type": "code",
   "execution_count": 17,
   "id": "430ba107",
   "metadata": {},
   "outputs": [],
   "source": [
    "subset2=A[['Ozone','Solar.R','Wind','Temp']].loc[16:30]"
   ]
  },
  {
   "cell_type": "code",
   "execution_count": 18,
   "id": "783f71f7",
   "metadata": {},
   "outputs": [
    {
     "data": {
      "text/html": [
       "<div>\n",
       "<style scoped>\n",
       "    .dataframe tbody tr th:only-of-type {\n",
       "        vertical-align: middle;\n",
       "    }\n",
       "\n",
       "    .dataframe tbody tr th {\n",
       "        vertical-align: top;\n",
       "    }\n",
       "\n",
       "    .dataframe thead th {\n",
       "        text-align: right;\n",
       "    }\n",
       "</style>\n",
       "<table border=\"1\" class=\"dataframe\">\n",
       "  <thead>\n",
       "    <tr style=\"text-align: right;\">\n",
       "      <th></th>\n",
       "      <th>Ozone</th>\n",
       "      <th>Solar.R</th>\n",
       "      <th>Wind</th>\n",
       "      <th>Temp</th>\n",
       "    </tr>\n",
       "  </thead>\n",
       "  <tbody>\n",
       "    <tr>\n",
       "      <th>16</th>\n",
       "      <td>34.00000</td>\n",
       "      <td>307.000000</td>\n",
       "      <td>12.0</td>\n",
       "      <td>66</td>\n",
       "    </tr>\n",
       "    <tr>\n",
       "      <th>17</th>\n",
       "      <td>6.00000</td>\n",
       "      <td>78.000000</td>\n",
       "      <td>18.4</td>\n",
       "      <td>57</td>\n",
       "    </tr>\n",
       "    <tr>\n",
       "      <th>18</th>\n",
       "      <td>30.00000</td>\n",
       "      <td>322.000000</td>\n",
       "      <td>11.5</td>\n",
       "      <td>68</td>\n",
       "    </tr>\n",
       "    <tr>\n",
       "      <th>19</th>\n",
       "      <td>11.00000</td>\n",
       "      <td>44.000000</td>\n",
       "      <td>9.7</td>\n",
       "      <td>62</td>\n",
       "    </tr>\n",
       "    <tr>\n",
       "      <th>20</th>\n",
       "      <td>1.00000</td>\n",
       "      <td>8.000000</td>\n",
       "      <td>9.7</td>\n",
       "      <td>59</td>\n",
       "    </tr>\n",
       "    <tr>\n",
       "      <th>21</th>\n",
       "      <td>11.00000</td>\n",
       "      <td>320.000000</td>\n",
       "      <td>16.6</td>\n",
       "      <td>73</td>\n",
       "    </tr>\n",
       "    <tr>\n",
       "      <th>22</th>\n",
       "      <td>4.00000</td>\n",
       "      <td>25.000000</td>\n",
       "      <td>9.7</td>\n",
       "      <td>61</td>\n",
       "    </tr>\n",
       "    <tr>\n",
       "      <th>23</th>\n",
       "      <td>32.00000</td>\n",
       "      <td>92.000000</td>\n",
       "      <td>12.0</td>\n",
       "      <td>61</td>\n",
       "    </tr>\n",
       "    <tr>\n",
       "      <th>24</th>\n",
       "      <td>42.12931</td>\n",
       "      <td>66.000000</td>\n",
       "      <td>16.6</td>\n",
       "      <td>57</td>\n",
       "    </tr>\n",
       "    <tr>\n",
       "      <th>25</th>\n",
       "      <td>42.12931</td>\n",
       "      <td>266.000000</td>\n",
       "      <td>14.9</td>\n",
       "      <td>58</td>\n",
       "    </tr>\n",
       "    <tr>\n",
       "      <th>26</th>\n",
       "      <td>42.12931</td>\n",
       "      <td>185.931507</td>\n",
       "      <td>8.0</td>\n",
       "      <td>57</td>\n",
       "    </tr>\n",
       "    <tr>\n",
       "      <th>27</th>\n",
       "      <td>23.00000</td>\n",
       "      <td>13.000000</td>\n",
       "      <td>12.0</td>\n",
       "      <td>67</td>\n",
       "    </tr>\n",
       "    <tr>\n",
       "      <th>28</th>\n",
       "      <td>45.00000</td>\n",
       "      <td>252.000000</td>\n",
       "      <td>14.9</td>\n",
       "      <td>81</td>\n",
       "    </tr>\n",
       "    <tr>\n",
       "      <th>29</th>\n",
       "      <td>115.00000</td>\n",
       "      <td>223.000000</td>\n",
       "      <td>5.7</td>\n",
       "      <td>79</td>\n",
       "    </tr>\n",
       "    <tr>\n",
       "      <th>30</th>\n",
       "      <td>37.00000</td>\n",
       "      <td>279.000000</td>\n",
       "      <td>7.4</td>\n",
       "      <td>76</td>\n",
       "    </tr>\n",
       "  </tbody>\n",
       "</table>\n",
       "</div>"
      ],
      "text/plain": [
       "        Ozone     Solar.R  Wind  Temp\n",
       "16   34.00000  307.000000  12.0    66\n",
       "17    6.00000   78.000000  18.4    57\n",
       "18   30.00000  322.000000  11.5    68\n",
       "19   11.00000   44.000000   9.7    62\n",
       "20    1.00000    8.000000   9.7    59\n",
       "21   11.00000  320.000000  16.6    73\n",
       "22    4.00000   25.000000   9.7    61\n",
       "23   32.00000   92.000000  12.0    61\n",
       "24   42.12931   66.000000  16.6    57\n",
       "25   42.12931  266.000000  14.9    58\n",
       "26   42.12931  185.931507   8.0    57\n",
       "27   23.00000   13.000000  12.0    67\n",
       "28   45.00000  252.000000  14.9    81\n",
       "29  115.00000  223.000000   5.7    79\n",
       "30   37.00000  279.000000   7.4    76"
      ]
     },
     "execution_count": 18,
     "metadata": {},
     "output_type": "execute_result"
    }
   ],
   "source": [
    "subset2"
   ]
  },
  {
   "cell_type": "code",
   "execution_count": 19,
   "id": "a82a338a",
   "metadata": {},
   "outputs": [],
   "source": [
    "merge=pd.concat([subset1,subset2])"
   ]
  },
  {
   "cell_type": "code",
   "execution_count": 20,
   "id": "f63b744f",
   "metadata": {},
   "outputs": [
    {
     "data": {
      "text/html": [
       "<div>\n",
       "<style scoped>\n",
       "    .dataframe tbody tr th:only-of-type {\n",
       "        vertical-align: middle;\n",
       "    }\n",
       "\n",
       "    .dataframe tbody tr th {\n",
       "        vertical-align: top;\n",
       "    }\n",
       "\n",
       "    .dataframe thead th {\n",
       "        text-align: right;\n",
       "    }\n",
       "</style>\n",
       "<table border=\"1\" class=\"dataframe\">\n",
       "  <thead>\n",
       "    <tr style=\"text-align: right;\">\n",
       "      <th></th>\n",
       "      <th>Ozone</th>\n",
       "      <th>Solar.R</th>\n",
       "      <th>Wind</th>\n",
       "      <th>Temp</th>\n",
       "    </tr>\n",
       "  </thead>\n",
       "  <tbody>\n",
       "    <tr>\n",
       "      <th>0</th>\n",
       "      <td>41.00000</td>\n",
       "      <td>190.000000</td>\n",
       "      <td>7.4</td>\n",
       "      <td>67</td>\n",
       "    </tr>\n",
       "    <tr>\n",
       "      <th>1</th>\n",
       "      <td>36.00000</td>\n",
       "      <td>118.000000</td>\n",
       "      <td>8.0</td>\n",
       "      <td>72</td>\n",
       "    </tr>\n",
       "    <tr>\n",
       "      <th>2</th>\n",
       "      <td>12.00000</td>\n",
       "      <td>149.000000</td>\n",
       "      <td>12.6</td>\n",
       "      <td>74</td>\n",
       "    </tr>\n",
       "    <tr>\n",
       "      <th>3</th>\n",
       "      <td>18.00000</td>\n",
       "      <td>313.000000</td>\n",
       "      <td>11.5</td>\n",
       "      <td>62</td>\n",
       "    </tr>\n",
       "    <tr>\n",
       "      <th>4</th>\n",
       "      <td>42.12931</td>\n",
       "      <td>185.931507</td>\n",
       "      <td>14.3</td>\n",
       "      <td>56</td>\n",
       "    </tr>\n",
       "    <tr>\n",
       "      <th>5</th>\n",
       "      <td>28.00000</td>\n",
       "      <td>185.931507</td>\n",
       "      <td>14.9</td>\n",
       "      <td>66</td>\n",
       "    </tr>\n",
       "    <tr>\n",
       "      <th>6</th>\n",
       "      <td>23.00000</td>\n",
       "      <td>299.000000</td>\n",
       "      <td>8.6</td>\n",
       "      <td>65</td>\n",
       "    </tr>\n",
       "    <tr>\n",
       "      <th>7</th>\n",
       "      <td>19.00000</td>\n",
       "      <td>99.000000</td>\n",
       "      <td>13.8</td>\n",
       "      <td>59</td>\n",
       "    </tr>\n",
       "    <tr>\n",
       "      <th>8</th>\n",
       "      <td>8.00000</td>\n",
       "      <td>19.000000</td>\n",
       "      <td>20.1</td>\n",
       "      <td>61</td>\n",
       "    </tr>\n",
       "    <tr>\n",
       "      <th>9</th>\n",
       "      <td>42.12931</td>\n",
       "      <td>194.000000</td>\n",
       "      <td>8.6</td>\n",
       "      <td>69</td>\n",
       "    </tr>\n",
       "    <tr>\n",
       "      <th>10</th>\n",
       "      <td>7.00000</td>\n",
       "      <td>185.931507</td>\n",
       "      <td>6.9</td>\n",
       "      <td>74</td>\n",
       "    </tr>\n",
       "    <tr>\n",
       "      <th>11</th>\n",
       "      <td>16.00000</td>\n",
       "      <td>256.000000</td>\n",
       "      <td>9.7</td>\n",
       "      <td>69</td>\n",
       "    </tr>\n",
       "    <tr>\n",
       "      <th>12</th>\n",
       "      <td>11.00000</td>\n",
       "      <td>290.000000</td>\n",
       "      <td>9.2</td>\n",
       "      <td>66</td>\n",
       "    </tr>\n",
       "    <tr>\n",
       "      <th>13</th>\n",
       "      <td>14.00000</td>\n",
       "      <td>274.000000</td>\n",
       "      <td>10.9</td>\n",
       "      <td>68</td>\n",
       "    </tr>\n",
       "    <tr>\n",
       "      <th>14</th>\n",
       "      <td>18.00000</td>\n",
       "      <td>65.000000</td>\n",
       "      <td>13.2</td>\n",
       "      <td>58</td>\n",
       "    </tr>\n",
       "    <tr>\n",
       "      <th>15</th>\n",
       "      <td>14.00000</td>\n",
       "      <td>334.000000</td>\n",
       "      <td>11.5</td>\n",
       "      <td>64</td>\n",
       "    </tr>\n",
       "    <tr>\n",
       "      <th>16</th>\n",
       "      <td>34.00000</td>\n",
       "      <td>307.000000</td>\n",
       "      <td>12.0</td>\n",
       "      <td>66</td>\n",
       "    </tr>\n",
       "    <tr>\n",
       "      <th>17</th>\n",
       "      <td>6.00000</td>\n",
       "      <td>78.000000</td>\n",
       "      <td>18.4</td>\n",
       "      <td>57</td>\n",
       "    </tr>\n",
       "    <tr>\n",
       "      <th>18</th>\n",
       "      <td>30.00000</td>\n",
       "      <td>322.000000</td>\n",
       "      <td>11.5</td>\n",
       "      <td>68</td>\n",
       "    </tr>\n",
       "    <tr>\n",
       "      <th>19</th>\n",
       "      <td>11.00000</td>\n",
       "      <td>44.000000</td>\n",
       "      <td>9.7</td>\n",
       "      <td>62</td>\n",
       "    </tr>\n",
       "    <tr>\n",
       "      <th>20</th>\n",
       "      <td>1.00000</td>\n",
       "      <td>8.000000</td>\n",
       "      <td>9.7</td>\n",
       "      <td>59</td>\n",
       "    </tr>\n",
       "    <tr>\n",
       "      <th>21</th>\n",
       "      <td>11.00000</td>\n",
       "      <td>320.000000</td>\n",
       "      <td>16.6</td>\n",
       "      <td>73</td>\n",
       "    </tr>\n",
       "    <tr>\n",
       "      <th>22</th>\n",
       "      <td>4.00000</td>\n",
       "      <td>25.000000</td>\n",
       "      <td>9.7</td>\n",
       "      <td>61</td>\n",
       "    </tr>\n",
       "    <tr>\n",
       "      <th>23</th>\n",
       "      <td>32.00000</td>\n",
       "      <td>92.000000</td>\n",
       "      <td>12.0</td>\n",
       "      <td>61</td>\n",
       "    </tr>\n",
       "    <tr>\n",
       "      <th>24</th>\n",
       "      <td>42.12931</td>\n",
       "      <td>66.000000</td>\n",
       "      <td>16.6</td>\n",
       "      <td>57</td>\n",
       "    </tr>\n",
       "    <tr>\n",
       "      <th>25</th>\n",
       "      <td>42.12931</td>\n",
       "      <td>266.000000</td>\n",
       "      <td>14.9</td>\n",
       "      <td>58</td>\n",
       "    </tr>\n",
       "    <tr>\n",
       "      <th>26</th>\n",
       "      <td>42.12931</td>\n",
       "      <td>185.931507</td>\n",
       "      <td>8.0</td>\n",
       "      <td>57</td>\n",
       "    </tr>\n",
       "    <tr>\n",
       "      <th>27</th>\n",
       "      <td>23.00000</td>\n",
       "      <td>13.000000</td>\n",
       "      <td>12.0</td>\n",
       "      <td>67</td>\n",
       "    </tr>\n",
       "    <tr>\n",
       "      <th>28</th>\n",
       "      <td>45.00000</td>\n",
       "      <td>252.000000</td>\n",
       "      <td>14.9</td>\n",
       "      <td>81</td>\n",
       "    </tr>\n",
       "    <tr>\n",
       "      <th>29</th>\n",
       "      <td>115.00000</td>\n",
       "      <td>223.000000</td>\n",
       "      <td>5.7</td>\n",
       "      <td>79</td>\n",
       "    </tr>\n",
       "    <tr>\n",
       "      <th>30</th>\n",
       "      <td>37.00000</td>\n",
       "      <td>279.000000</td>\n",
       "      <td>7.4</td>\n",
       "      <td>76</td>\n",
       "    </tr>\n",
       "  </tbody>\n",
       "</table>\n",
       "</div>"
      ],
      "text/plain": [
       "        Ozone     Solar.R  Wind  Temp\n",
       "0    41.00000  190.000000   7.4    67\n",
       "1    36.00000  118.000000   8.0    72\n",
       "2    12.00000  149.000000  12.6    74\n",
       "3    18.00000  313.000000  11.5    62\n",
       "4    42.12931  185.931507  14.3    56\n",
       "5    28.00000  185.931507  14.9    66\n",
       "6    23.00000  299.000000   8.6    65\n",
       "7    19.00000   99.000000  13.8    59\n",
       "8     8.00000   19.000000  20.1    61\n",
       "9    42.12931  194.000000   8.6    69\n",
       "10    7.00000  185.931507   6.9    74\n",
       "11   16.00000  256.000000   9.7    69\n",
       "12   11.00000  290.000000   9.2    66\n",
       "13   14.00000  274.000000  10.9    68\n",
       "14   18.00000   65.000000  13.2    58\n",
       "15   14.00000  334.000000  11.5    64\n",
       "16   34.00000  307.000000  12.0    66\n",
       "17    6.00000   78.000000  18.4    57\n",
       "18   30.00000  322.000000  11.5    68\n",
       "19   11.00000   44.000000   9.7    62\n",
       "20    1.00000    8.000000   9.7    59\n",
       "21   11.00000  320.000000  16.6    73\n",
       "22    4.00000   25.000000   9.7    61\n",
       "23   32.00000   92.000000  12.0    61\n",
       "24   42.12931   66.000000  16.6    57\n",
       "25   42.12931  266.000000  14.9    58\n",
       "26   42.12931  185.931507   8.0    57\n",
       "27   23.00000   13.000000  12.0    67\n",
       "28   45.00000  252.000000  14.9    81\n",
       "29  115.00000  223.000000   5.7    79\n",
       "30   37.00000  279.000000   7.4    76"
      ]
     },
     "execution_count": 20,
     "metadata": {},
     "output_type": "execute_result"
    }
   ],
   "source": [
    "merge"
   ]
  },
  {
   "cell_type": "markdown",
   "id": "6b3eb2f9",
   "metadata": {},
   "source": [
    "# c) Data Transformation"
   ]
  },
  {
   "cell_type": "code",
   "execution_count": 21,
   "id": "7daff8e3",
   "metadata": {},
   "outputs": [],
   "source": [
    "from sklearn import preprocessing"
   ]
  },
  {
   "cell_type": "code",
   "execution_count": 22,
   "id": "21f2c975",
   "metadata": {},
   "outputs": [],
   "source": [
    "Label_Encoder= preprocessing.LabelEncoder()"
   ]
  },
  {
   "cell_type": "code",
   "execution_count": 23,
   "id": "b20889f5",
   "metadata": {},
   "outputs": [],
   "source": [
    "A[\"Humidity\"]=Label_Encoder.fit_transform(A[\"Humidity\"])"
   ]
  },
  {
   "cell_type": "code",
   "execution_count": 24,
   "id": "aea7840a",
   "metadata": {},
   "outputs": [
    {
     "data": {
      "text/plain": [
       "0      0\n",
       "1      3\n",
       "2      3\n",
       "3      0\n",
       "4      1\n",
       "      ..\n",
       "148    3\n",
       "149    0\n",
       "150    0\n",
       "151    3\n",
       "152    3\n",
       "Name: Humidity, Length: 153, dtype: int32"
      ]
     },
     "execution_count": 24,
     "metadata": {},
     "output_type": "execute_result"
    }
   ],
   "source": [
    "A['Humidity']"
   ]
  },
  {
   "cell_type": "code",
   "execution_count": 25,
   "id": "4c223948",
   "metadata": {},
   "outputs": [
    {
     "data": {
      "text/plain": [
       "array([0, 3, 3, 0, 1, 0, 1, 3, 3, 0, 0, 1, 1, 0, 3, 3, 0, 1, 1, 1, 0, 0,\n",
       "       3, 0, 3, 3, 0, 0, 1, 0, 0, 1, 3, 3, 0, 0, 1, 1, 3, 0, 3, 3, 0, 1,\n",
       "       3, 0, 1, 0, 3, 0, 0, 3, 3, 0, 3, 1, 1, 1, 3, 0, 0, 0, 0, 0, 3, 1,\n",
       "       1, 1, 3, 3, 3, 0, 0, 0, 3, 3, 3, 1, 1, 1, 0, 1, 3, 1, 0, 3, 3, 0,\n",
       "       3, 0, 0, 1, 1, 1, 1, 3, 3, 3, 3, 3, 2, 3, 3, 3, 3, 0, 0, 2, 3, 0,\n",
       "       0, 0, 0, 0, 0, 0, 0, 0, 0, 0, 0, 0, 0, 2, 3, 3, 3, 3, 3, 3, 3, 3,\n",
       "       3, 3, 1, 2, 1, 1, 1, 1, 1, 1, 2, 1, 1, 1, 2, 1, 3, 0, 0, 3, 3])"
      ]
     },
     "execution_count": 25,
     "metadata": {},
     "output_type": "execute_result"
    }
   ],
   "source": [
    "A['Humidity'].values"
   ]
  },
  {
   "cell_type": "code",
   "execution_count": 26,
   "id": "87467270",
   "metadata": {},
   "outputs": [
    {
     "data": {
      "text/plain": [
       "153"
      ]
     },
     "execution_count": 26,
     "metadata": {},
     "output_type": "execute_result"
    }
   ],
   "source": [
    "A['Humidity'].count()"
   ]
  },
  {
   "cell_type": "markdown",
   "id": "cbdb1c6e",
   "metadata": {},
   "source": [
    "# D)Data model building"
   ]
  },
  {
   "cell_type": "code",
   "execution_count": 27,
   "id": "2eb9244a",
   "metadata": {},
   "outputs": [],
   "source": [
    "from sklearn.model_selection import train_test_split"
   ]
  },
  {
   "cell_type": "code",
   "execution_count": 28,
   "id": "c8b0ba61",
   "metadata": {},
   "outputs": [],
   "source": [
    "X=A[['Ozone']]\n",
    "Y=A[['Temp']]"
   ]
  },
  {
   "cell_type": "code",
   "execution_count": 29,
   "id": "34668cc6",
   "metadata": {},
   "outputs": [],
   "source": [
    "Xtrain,Xtest,Ytrain,Ytest=train_test_split(X,Y,test_size=0.3,random_state=42)"
   ]
  },
  {
   "cell_type": "code",
   "execution_count": 30,
   "id": "42c61060",
   "metadata": {},
   "outputs": [
    {
     "data": {
      "text/plain": [
       "(107, 1)"
      ]
     },
     "execution_count": 30,
     "metadata": {},
     "output_type": "execute_result"
    }
   ],
   "source": [
    "Xtrain.shape"
   ]
  },
  {
   "cell_type": "code",
   "execution_count": 31,
   "id": "540953b8",
   "metadata": {},
   "outputs": [
    {
     "data": {
      "text/plain": [
       "(46, 1)"
      ]
     },
     "execution_count": 31,
     "metadata": {},
     "output_type": "execute_result"
    }
   ],
   "source": [
    "Xtest.shape"
   ]
  },
  {
   "cell_type": "code",
   "execution_count": 32,
   "id": "aa951d28",
   "metadata": {},
   "outputs": [
    {
     "data": {
      "text/plain": [
       "(107, 1)"
      ]
     },
     "execution_count": 32,
     "metadata": {},
     "output_type": "execute_result"
    }
   ],
   "source": [
    "Ytrain.shape"
   ]
  },
  {
   "cell_type": "code",
   "execution_count": 33,
   "id": "8275f852",
   "metadata": {},
   "outputs": [
    {
     "data": {
      "text/plain": [
       "(46, 1)"
      ]
     },
     "execution_count": 33,
     "metadata": {},
     "output_type": "execute_result"
    }
   ],
   "source": [
    "Ytest.shape"
   ]
  },
  {
   "cell_type": "code",
   "execution_count": 34,
   "id": "34312c4f",
   "metadata": {},
   "outputs": [],
   "source": [
    "from sklearn import linear_model"
   ]
  },
  {
   "cell_type": "code",
   "execution_count": 35,
   "id": "16bdc2a7",
   "metadata": {},
   "outputs": [],
   "source": [
    "reg = linear_model.LinearRegression()"
   ]
  },
  {
   "cell_type": "code",
   "execution_count": 36,
   "id": "d59aa819",
   "metadata": {},
   "outputs": [],
   "source": [
    "model = reg.fit(Xtrain,Ytrain)"
   ]
  },
  {
   "cell_type": "code",
   "execution_count": 37,
   "id": "95cc1ff5",
   "metadata": {},
   "outputs": [
    {
     "data": {
      "text/plain": [
       "LinearRegression()"
      ]
     },
     "execution_count": 37,
     "metadata": {},
     "output_type": "execute_result"
    }
   ],
   "source": [
    "model"
   ]
  },
  {
   "cell_type": "code",
   "execution_count": 38,
   "id": "5a8b28ac",
   "metadata": {},
   "outputs": [
    {
     "name": "stdout",
     "output_type": "stream",
     "text": [
      "[69.42232301]\n",
      "[[0.20312469]]\n"
     ]
    }
   ],
   "source": [
    "print(model.intercept_)\n",
    "print(model.coef_)"
   ]
  },
  {
   "cell_type": "code",
   "execution_count": 39,
   "id": "4d5517de",
   "metadata": {},
   "outputs": [],
   "source": [
    "Ypred = model.predict(Xtest)"
   ]
  },
  {
   "cell_type": "code",
   "execution_count": 40,
   "id": "bbacf63e",
   "metadata": {},
   "outputs": [],
   "source": [
    "from sklearn.metrics import mean_absolute_error ,  mean_squared_error,r2_score\n",
    "mse = mean_squared_error(Ytest,Ypred)\n",
    "rmse=np.sqrt(mse)\n",
    "mae=mean_absolute_error(Ytest,Ypred)\n",
    "r2=r2_score(Ytest,Ypred)\n",
    "ar2=1-(1-r2)*(len(Y)-1)/(len(Y)-1-1)"
   ]
  },
  {
   "cell_type": "code",
   "execution_count": 41,
   "id": "234389a7",
   "metadata": {},
   "outputs": [
    {
     "name": "stdout",
     "output_type": "stream",
     "text": [
      "Mean squared error:  54.13493693361354\n",
      "Root Mean Square error:  7.357644795286976\n",
      "Mean Absolute error:  5.337665610314505\n",
      "R2:  0.3049896154430294\n",
      "Adjusted R2:  0.30038689766450644\n"
     ]
    }
   ],
   "source": [
    "print('Mean squared error: ',mse)\n",
    "print('Root Mean Square error: ',rmse)\n",
    "print('Mean Absolute error: ',mae)\n",
    "print('R2: ',r2)\n",
    "print('Adjusted R2: ',ar2)"
   ]
  },
  {
   "cell_type": "code",
   "execution_count": 42,
   "id": "6152fa58",
   "metadata": {},
   "outputs": [
    {
     "data": {
      "text/plain": [
       "<matplotlib.collections.PathCollection at 0x1eb45f1cfd0>"
      ]
     },
     "execution_count": 42,
     "metadata": {},
     "output_type": "execute_result"
    },
    {
     "data": {
      "image/png": "[encoded data removed]",
      "text/plain": [
       "<Figure size 720x504 with 1 Axes>"
      ]
     },
     "metadata": {
      "needs_background": "light"
     },
     "output_type": "display_data"
    }
   ],
   "source": [
    "plt.figure(figsize=(10,7))\n",
    "plt.title(' Year vs Temperature')\n",
    "plt.xlabel('YEAR')\n",
    "plt.ylabel('Temperature')\n",
    "plt.plot(Xtrain,reg.predict(Xtrain),color='red')\n",
    "plt.scatter(Xtrain,Ytrain,color='blue')"
   ]
  }
 ],
 "metadata": {
  "kernelspec": {
   "display_name": "Python 3 (ipykernel)",
   "language": "python",
   "name": "python3"
  },
  "language_info": {
   "codemirror_mode": {
    "name": "ipython",
    "version": 3
   },
   "file_extension": ".py",
   "mimetype": "text/x-python",
   "name": "python",
   "nbconvert_exporter": "python",
   "pygments_lexer": "ipython3",
   "version": "3.9.7"
  }
 },
 "nbformat": 4,
 "nbformat_minor": 5
}
